{
 "cells": [
  {
   "cell_type": "markdown",
   "metadata": {},
   "source": [
    "# Data Cleaning Project Unit Test\n",
    "\n",
    "## Import Dependencies"
   ]
  },
  {
   "cell_type": "code",
   "execution_count": 1,
   "metadata": {},
   "outputs": [],
   "source": [
    "import pandas as pd\n",
    "from playground import execute_dsl"
   ]
  },
  {
   "cell_type": "markdown",
   "metadata": {},
   "source": [
    "## Test\n",
    "\n",
    "1. ``drop``: Deletes a column or a row in the table"
   ]
  },
  {
   "cell_type": "code",
   "execution_count": 2,
   "metadata": {},
   "outputs": [
    {
     "name": "stdout",
     "output_type": "stream",
     "text": [
      "original tables\n",
      "table1\n",
      "   col1  col2  col3\n",
      "0     1     6    11\n",
      "1     2     7    12\n",
      "2     3     8    13\n",
      "3     4     9    14\n",
      "4     5    10    15\n",
      "modified tables\n",
      "table1\n",
      "   col2  col3\n",
      "0     6    11\n",
      "1     7    12\n",
      "2     8    13\n",
      "3     9    14\n",
      "4    10    15\n"
     ]
    }
   ],
   "source": [
    "table1 = pd.DataFrame(\n",
    "    {\n",
    "        \"col1\": [1, 2, 3, 4, 5],\n",
    "        \"col2\": [6, 7, 8, 9, 10],\n",
    "        \"col3\": [11, 12, 13, 14, 15],\n",
    "    }\n",
    ")\n",
    "tables = {\n",
    "    \"table1\": table1,\n",
    "}\n",
    "\n",
    "dsl_code = \"\"\"\n",
    "    drop(table=table1, label=col1, axis=1)\n",
    "\"\"\"\n",
    "\n",
    "print(\"original tables\")\n",
    "for name, table in tables.items():\n",
    "    print(name)\n",
    "    print(table)\n",
    "tables = execute_dsl(tables, dsl_code)\n",
    "print(\"modified tables\")\n",
    "for name, table in tables.items():\n",
    "    print(name)\n",
    "    print(table)\n"
   ]
  },
  {
   "cell_type": "code",
   "execution_count": 3,
   "metadata": {},
   "outputs": [
    {
     "name": "stdout",
     "output_type": "stream",
     "text": [
      "original tables\n",
      "table1\n",
      "   col1  col2  col3\n",
      "0     1     6    11\n",
      "1     2     7    12\n",
      "2     3     8    13\n",
      "3     4     9    14\n",
      "4     5    10    15\n",
      "modified tables\n",
      "table1\n",
      "   col1  col2  col3\n",
      "0     1     6    11\n",
      "1     2     7    12\n",
      "3     4     9    14\n",
      "4     5    10    15\n"
     ]
    }
   ],
   "source": [
    "table1 = pd.DataFrame(\n",
    "    {\n",
    "        \"col1\": [1, 2, 3, 4, 5],\n",
    "        \"col2\": [6, 7, 8, 9, 10],\n",
    "        \"col3\": [11, 12, 13, 14, 15],\n",
    "    }\n",
    ")\n",
    "tables = {\n",
    "    \"table1\": table1,\n",
    "}\n",
    "\n",
    "dsl_code = \"\"\"\n",
    "    drop(table=table1, label=2, axis=0)\n",
    "\"\"\"\n",
    "print(\"original tables\")\n",
    "for name, table in tables.items():\n",
    "    print(name)\n",
    "    print(table)\n",
    "execute_dsl(tables, dsl_code)\n",
    "print(\"modified tables\")\n",
    "for name, table in tables.items():\n",
    "    print(name)\n",
    "    print(table)"
   ]
  },
  {
   "cell_type": "markdown",
   "metadata": {},
   "source": [
    "2. ``move``: Relocates a column from one position to another in the table"
   ]
  },
  {
   "cell_type": "code",
   "execution_count": 4,
   "metadata": {},
   "outputs": [
    {
     "name": "stdout",
     "output_type": "stream",
     "text": [
      "original tables\n",
      "table1\n",
      "   col1  col2  col3\n",
      "0     1     6    11\n",
      "1     2     7    12\n",
      "2     3     8    13\n",
      "3     4     9    14\n",
      "4     5    10    15\n",
      "modified tables\n",
      "table1\n",
      "   col2  col3  col1\n",
      "0     6    11     1\n",
      "1     7    12     2\n",
      "2     8    13     3\n",
      "3     9    14     4\n",
      "4    10    15     5\n"
     ]
    }
   ],
   "source": [
    "table1 = pd.DataFrame(\n",
    "    {\n",
    "        \"col1\": [1, 2, 3, 4, 5],\n",
    "        \"col2\": [6, 7, 8, 9, 10],\n",
    "        \"col3\": [11, 12, 13, 14, 15],\n",
    "    }\n",
    ")\n",
    "tables = {\n",
    "    \"table1\": table1,\n",
    "}\n",
    "\n",
    "dsl_code = \"\"\"\n",
    "    move(table=table1, label=col1, target_table=table1, target_position=2, axis=columns)\n",
    "\"\"\"\n",
    "\n",
    "print(\"original tables\")\n",
    "for name, table in tables.items():\n",
    "    print(name)\n",
    "    print(table)\n",
    "execute_dsl(tables, dsl_code)\n",
    "print(\"modified tables\")\n",
    "for name, table in tables.items():\n",
    "    print(name)\n",
    "    print(table)"
   ]
  },
  {
   "cell_type": "code",
   "execution_count": 2,
   "metadata": {},
   "outputs": [
    {
     "name": "stdout",
     "output_type": "stream",
     "text": [
      "original tables\n",
      "table1\n",
      "   col1  col2  col3\n",
      "0     1     6    11\n",
      "1     2     7    12\n",
      "2     3     8    13\n",
      "3     4     9    14\n",
      "4     5    10    15\n",
      "modified tables\n",
      "table1\n",
      "   col1  col2  col3\n",
      "0     1     6    11\n",
      "2     3     8    13\n",
      "1     2     7    12\n",
      "3     4     9    14\n",
      "4     5    10    15\n"
     ]
    }
   ],
   "source": [
    "table1 = pd.DataFrame(\n",
    "    {\n",
    "        \"col1\": [1, 2, 3, 4, 5],\n",
    "        \"col2\": [6, 7, 8, 9, 10],\n",
    "        \"col3\": [11, 12, 13, 14, 15],\n",
    "    }\n",
    ")\n",
    "tables = {\n",
    "    \"table1\": table1,\n",
    "}\n",
    "\n",
    "dsl_code = \"\"\"\n",
    "    move(table=table1, label=1, target_table=table1, target_position=2, axis=index)\n",
    "\"\"\"\n",
    "\n",
    "print(\"original tables\")\n",
    "for name, table in tables.items():\n",
    "    print(name)\n",
    "    print(table)\n",
    "execute_dsl(tables, dsl_code)\n",
    "print(\"modified tables\")\n",
    "for name, table in tables.items():\n",
    "    print(name)\n",
    "    print(table)"
   ]
  },
  {
   "cell_type": "markdown",
   "metadata": {},
   "source": [
    "3. ``copy``: Duplicates a column and append the copied column to the end of the table"
   ]
  },
  {
   "cell_type": "code",
   "execution_count": 5,
   "metadata": {},
   "outputs": [
    {
     "name": "stdout",
     "output_type": "stream",
     "text": [
      "start\n",
      "  command\t{'copy': {'table': Token('NAME', 'table1'), 'column': Tree(Token('RULE', 'label'), [Token('NAME', 'col3')]), 'new_column': Tree(Token('RULE', 'label'), [Token('NAME', 'col1_copy')])}}\n",
      "\n",
      "Executing command: Tree(Token('RULE', 'command'), [{'copy': {'table': Token('NAME', 'table1'), 'column': Tree(Token('RULE', 'label'), [Token('NAME', 'col3')]), 'new_column': Tree(Token('RULE', 'label'), [Token('NAME', 'col1_copy')])}}])\n",
      "Table before column copy:\n",
      "    col1  col2  col3\n",
      "0     1     6    11\n",
      "1     2     7    12\n",
      "2     3     8    13\n",
      "3     4     9    14\n",
      "4     5    10    15\n",
      "Table after column copy:\n",
      "    col1  col2  col3  col1_copy\n",
      "0     1     6    11         11\n",
      "1     2     7    12         12\n",
      "2     3     8    13         13\n",
      "3     4     9    14         14\n",
      "4     5    10    15         15\n"
     ]
    }
   ],
   "source": [
    "table1 = pd.DataFrame(\n",
    "    {\n",
    "        \"col1\": [1, 2, 3, 4, 5],\n",
    "        \"col2\": [6, 7, 8, 9, 10],\n",
    "        \"col3\": [11, 12, 13, 14, 15],\n",
    "    }\n",
    ")\n",
    "tables = {\n",
    "    \"table1\": table1,\n",
    "}\n",
    "\n",
    "dsl_code = \"\"\"\n",
    "    copy(table=table1, column=col3, new_column=col1_copy)\n",
    "\"\"\"\n",
    "\n",
    "execute_dsl(tables, dsl_code)"
   ]
  },
  {
   "cell_type": "markdown",
   "metadata": {},
   "source": [
    "4. ``merge``: Concatenates two columns and append the merged column to the end of the table"
   ]
  },
  {
   "cell_type": "code",
   "execution_count": 6,
   "metadata": {},
   "outputs": [
    {
     "name": "stdout",
     "output_type": "stream",
     "text": [
      "start\n",
      "  command\t{'merge': {'table': Token('NAME', 'table1'), 'column1': Tree(Token('RULE', 'label'), [Token('NAME', 'first_name')]), 'column2': Tree(Token('RULE', 'label'), [Token('NAME', 'last_name')]), 'glue': Token('STRING', '\" \"'), 'new_column': Tree(Token('RULE', 'label'), [Token('NAME', 'name')])}}\n",
      "\n",
      "Executing command: Tree(Token('RULE', 'command'), [{'merge': {'table': Token('NAME', 'table1'), 'column1': Tree(Token('RULE', 'label'), [Token('NAME', 'first_name')]), 'column2': Tree(Token('RULE', 'label'), [Token('NAME', 'last_name')]), 'glue': Token('STRING', '\" \"'), 'new_column': Tree(Token('RULE', 'label'), [Token('NAME', 'name')])}}])\n",
      "Table before column merge:\n",
      "   first_name last_name  ages\n",
      "0      Alice     Smith    25\n",
      "1        Bob   Johnson    30\n",
      "2    Charlie  Williams    35\n",
      "3      David     Jones    40\n",
      "4        Eve     Brown    45\n",
      "Table after column merge:\n",
      "   first_name last_name  ages              name\n",
      "0      Alice     Smith    25       Alice Smith\n",
      "1        Bob   Johnson    30       Bob Johnson\n",
      "2    Charlie  Williams    35  Charlie Williams\n",
      "3      David     Jones    40       David Jones\n",
      "4        Eve     Brown    45         Eve Brown\n"
     ]
    }
   ],
   "source": [
    "table1 = pd.DataFrame(\n",
    "    {\n",
    "        \"first_name\": [\"Alice\", \"Bob\", \"Charlie\", \"David\", \"Eve\"],\n",
    "        \"last_name\": [\"Smith\", \"Johnson\", \"Williams\", \"Jones\", \"Brown\"],\n",
    "        \"ages\": [25, 30, 35, 40, 45],\n",
    "    }\n",
    ")\n",
    "tables = {\n",
    "    \"table1\": table1,\n",
    "}\n",
    "\n",
    "dsl_code = \"\"\"\n",
    "    merge(table=table1, column1=first_name, column2=last_name, glue=\" \", new_column=name)\n",
    "\"\"\"\n",
    "\n",
    "execute_dsl(tables, dsl_code)"
   ]
  },
  {
   "cell_type": "markdown",
   "metadata": {},
   "source": [
    "5. ``split``: Separates a column into two or more halves at the occurrences of the delimiter"
   ]
  },
  {
   "cell_type": "code",
   "execution_count": 7,
   "metadata": {},
   "outputs": [
    {
     "name": "stdout",
     "output_type": "stream",
     "text": [
      "start\n",
      "  command\t{'split': {'table': Token('NAME', 'table1'), 'column': Tree(Token('RULE', 'label'), [Token('NAME', 'name')]), 'delimiter': Token('STRING', '\" \"'), 'new_columns': ['first_name', 'last_name']}}\n",
      "\n",
      "Executing command: Tree(Token('RULE', 'command'), [{'split': {'table': Token('NAME', 'table1'), 'column': Tree(Token('RULE', 'label'), [Token('NAME', 'name')]), 'delimiter': Token('STRING', '\" \"'), 'new_columns': ['first_name', 'last_name']}}])\n",
      "Table before column split:\n",
      "                name  ages\n",
      "0       Alice Smith    25\n",
      "1       Bob Johnson    30\n",
      "2  Charlie Williams    35\n",
      "3       David Jones    40\n",
      "4         Eve Brown    45\n",
      "Table after column split:\n",
      "                name  ages first_name last_name\n",
      "0       Alice Smith    25      Alice     Smith\n",
      "1       Bob Johnson    30        Bob   Johnson\n",
      "2  Charlie Williams    35    Charlie  Williams\n",
      "3       David Jones    40      David     Jones\n",
      "4         Eve Brown    45        Eve     Brown\n"
     ]
    }
   ],
   "source": [
    "table1 = pd.DataFrame(\n",
    "    {\n",
    "        \"name\": [\"Alice Smith\", \"Bob Johnson\", \"Charlie Williams\", \"David Jones\", \"Eve Brown\"],\n",
    "        \"ages\": [25, 30, 35, 40, 45],\n",
    "    }\n",
    ")\n",
    "tables = {\n",
    "    \"table1\": table1,\n",
    "}\n",
    "\n",
    "dsl_code = \"\"\"\n",
    "    split(table=table1, column=name, delimiter=\" \", new_columns=[first_name, last_name])\n",
    "\"\"\"\n",
    "\n",
    "execute_dsl(tables, dsl_code)"
   ]
  },
  {
   "cell_type": "markdown",
   "metadata": {},
   "source": [
    "6. ``fold``: Collapses all columns after a specific column into one column in the output table"
   ]
  },
  {
   "cell_type": "code",
   "execution_count": 2,
   "metadata": {},
   "outputs": [
    {
     "name": "stdout",
     "output_type": "stream",
     "text": [
      "start\n",
      "  command\t{'fold': {'table': Token('NAME', 'table1'), 'column': Tree(Token('RULE', 'label'), [Token('NAME', 'a')])}}\n",
      "\n",
      "Executing command: Tree(Token('RULE', 'command'), [{'fold': {'table': Token('NAME', 'table1'), 'column': Tree(Token('RULE', 'label'), [Token('NAME', 'a')])}}])\n",
      "Table before column split:\n",
      "     a   b   c\n",
      "0  a1  b1  c1\n",
      "1  a2  b2  c2\n",
      "2  a3  b3  c3\n",
      "Table after column split:\n",
      "     a folded_value\n",
      "0  a1           b1\n",
      "1  a1           c1\n",
      "2  a2           b2\n",
      "3  a2           c2\n",
      "4  a3           b3\n",
      "5  a3           c3\n"
     ]
    }
   ],
   "source": [
    "table1 = pd.DataFrame(\n",
    "    {\n",
    "        \"a\": [\"a1\", \"a2\", \"a3\"],\n",
    "        \"b\": [\"b1\", \"b2\", \"b3\"],\n",
    "        \"c\": [\"c1\", \"c2\", \"c3\"],\n",
    "    }\n",
    ")\n",
    "tables = {\n",
    "    \"table1\": table1,\n",
    "}\n",
    "\n",
    "dsl_code = \"\"\"\n",
    "    fold(table=table1, column=a)\n",
    "\"\"\"\n",
    "\n",
    "execute_dsl(tables, dsl_code)"
   ]
  },
  {
   "cell_type": "markdown",
   "metadata": {},
   "source": [
    "7. ``unfold``: \"Unflatten\" tables and move information from data values to column names"
   ]
  },
  {
   "cell_type": "code",
   "execution_count": 5,
   "metadata": {},
   "outputs": [
    {
     "name": "stdout",
     "output_type": "stream",
     "text": [
      "start\n",
      "  command\t{'unfold': {'table': Token('NAME', 'table1')}}\n",
      "\n",
      "Executing command: Tree(Token('RULE', 'command'), [{'unfold': {'table': Token('NAME', 'table1')}}])\n",
      "Table before column split:\n",
      "     a   b\n",
      "0  a1  b1\n",
      "1  a1  c1\n",
      "2  a2  b2\n",
      "3  a2  c2\n",
      "4  a3  b3\n",
      "5  a3  c3\n",
      "Table after column split:\n",
      "     a col_0 col_1\n",
      "0  a1    b1    c1\n",
      "1  a2    b2    c2\n",
      "2  a3    b3    c3\n"
     ]
    }
   ],
   "source": [
    "table1 = pd.DataFrame(\n",
    "    {\n",
    "        \"a\": [\"a1\", \"a1\", \"a2\", \"a2\", \"a3\", \"a3\"],\n",
    "        \"b\": [\"b1\", \"c1\", \"b2\", \"c2\", \"b3\", \"c3\"],\n",
    "    }\n",
    ")\n",
    "tables = {\n",
    "    \"table1\": table1,\n",
    "}\n",
    "\n",
    "dsl_code = \"\"\"\n",
    "    unfold(table=table1)\n",
    "\"\"\"\n",
    "\n",
    "execute_dsl(tables, dsl_code)"
   ]
  },
  {
   "cell_type": "markdown",
   "metadata": {},
   "source": [
    "8. ``Transpose``: Transpose the rows and columns of the table"
   ]
  },
  {
   "cell_type": "code",
   "execution_count": 2,
   "metadata": {},
   "outputs": [
    {
     "name": "stdout",
     "output_type": "stream",
     "text": [
      "start\n",
      "  command\t{'transpose': {'table': Token('NAME', 'table1')}}\n",
      "\n",
      "Executing command: Tree(Token('RULE', 'command'), [{'transpose': {'table': Token('NAME', 'table1')}}])\n",
      "Table before transpose:\n",
      "     a   b   c\n",
      "0  a1  b1  c1\n",
      "1  a2  b2  c2\n",
      "2  a3  b3  c3\n",
      "Table after transpose:\n",
      "     0   1   2\n",
      "a  a1  a2  a3\n",
      "b  b1  b2  b3\n",
      "c  c1  c2  c3\n"
     ]
    }
   ],
   "source": [
    "table1 = pd.DataFrame(\n",
    "    {\n",
    "        \"a\": [\"a1\", \"a2\", \"a3\"],\n",
    "        \"b\": [\"b1\", \"b2\", \"b3\"],\n",
    "        \"c\": [\"c1\", \"c2\", \"c3\"],\n",
    "    }\n",
    ")\n",
    "tables = {\n",
    "    \"table1\": table1,\n",
    "}\n",
    "\n",
    "dsl_code = \"\"\"\n",
    "    transpose(table=table1)\n",
    "\"\"\"\n",
    "\n",
    "execute_dsl(tables, dsl_code)"
   ]
  }
 ],
 "metadata": {
  "kernelspec": {
   "display_name": "data-cleaning",
   "language": "python",
   "name": "python3"
  },
  "language_info": {
   "codemirror_mode": {
    "name": "ipython",
    "version": 3
   },
   "file_extension": ".py",
   "mimetype": "text/x-python",
   "name": "python",
   "nbconvert_exporter": "python",
   "pygments_lexer": "ipython3",
   "version": "3.12.2"
  }
 },
 "nbformat": 4,
 "nbformat_minor": 2
}
